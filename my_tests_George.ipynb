{
  "nbformat": 4,
  "nbformat_minor": 0,
  "metadata": {
    "colab": {
      "name": "my tests George.ipynb",
      "provenance": [],
      "collapsed_sections": [],
      "include_colab_link": true
    },
    "kernelspec": {
      "name": "python3",
      "display_name": "Python 3"
    },
    "language_info": {
      "name": "python"
    },
    "accelerator": "GPU"
  },
  "cells": [
    {
      "cell_type": "markdown",
      "metadata": {
        "id": "view-in-github",
        "colab_type": "text"
      },
      "source": [
        "<a href=\"https://colab.research.google.com/github/BeaLove/SemiSupervisedLearningASR/blob/main/my_tests_George.ipynb\" target=\"_parent\"><img src=\"https://colab.research.google.com/assets/colab-badge.svg\" alt=\"Open In Colab\"/></a>"
      ]
    },
    {
      "cell_type": "code",
      "metadata": {
        "id": "xbMSenmKQCTr",
        "colab": {
          "base_uri": "https://localhost:8080/",
          "height": 35
        },
        "cellView": "form",
        "outputId": "b9078b41-d16f-4745-a5a8-fb7156ce6c69"
      },
      "source": [
        "#@markdown Please create a shortcut from our shared project folder and name it as Speech project 2021.\n",
        "\n",
        "\n",
        "RESULTS_DIR = \"~/../gdrive/My Drive/Speech project 2021/results_george\" #@param {type:\"string\"}\n",
        "\n",
        "import os.path\n",
        "RESULTS_DIR = os.path.expanduser(RESULTS_DIR)\n",
        "\n",
        "RESULTS_DIR"
      ],
      "execution_count": 1,
      "outputs": [
        {
          "output_type": "execute_result",
          "data": {
            "application/vnd.google.colaboratory.intrinsic+json": {
              "type": "string"
            },
            "text/plain": [
              "'/root/../gdrive/My Drive/Speech project 2021/results_george'"
            ]
          },
          "metadata": {
            "tags": []
          },
          "execution_count": 1
        }
      ]
    },
    {
      "cell_type": "code",
      "metadata": {
        "colab": {
          "base_uri": "https://localhost:8080/"
        },
        "id": "z3_oVQ90PxUX",
        "outputId": "e385a849-360d-4a02-e6c1-fbebc1274f76"
      },
      "source": [
        "from google.colab import files, drive\n",
        "drive.mount('/gdrive', force_remount=True)\n",
        "\n",
        "if os.path.isdir(RESULTS_DIR) == False:\n",
        "  raise Exception(\"Cannot find the directory!\")\n",
        "\n",
        "%cd ~/\n",
        "\n",
        "if os.path.isdir(os.path.expanduser('~/SemiSupervisedLearningASR')):\n",
        "  %cd ~/SemiSupervisedLearningASR\n",
        "  !git pull\n",
        "else:\n",
        "  !git clone https://github.com/BeaLove/SemiSupervisedLearningASR.git\n",
        "  %cd ~/SemiSupervisedLearningASR\n",
        "\n",
        "!pip install -q -r requirements.txt"
      ],
      "execution_count": 2,
      "outputs": [
        {
          "output_type": "stream",
          "text": [
            "Mounted at /gdrive\n",
            "/root\n",
            "Cloning into 'SemiSupervisedLearningASR'...\n",
            "remote: Enumerating objects: 31934, done.\u001b[K\n",
            "remote: Counting objects: 100% (105/105), done.\u001b[K\n",
            "remote: Compressing objects: 100% (102/102), done.\u001b[K\n",
            "remote: Total 31934 (delta 56), reused 8 (delta 3), pack-reused 31829\u001b[K\n",
            "Receiving objects: 100% (31934/31934), 854.68 MiB | 29.64 MiB/s, done.\n",
            "Resolving deltas: 100% (294/294), done.\n",
            "Checking out files: 100% (31529/31529), done.\n",
            "/root/SemiSupervisedLearningASR\n",
            "\u001b[K     |████████████████████████████████| 51kB 7.4MB/s \n",
            "\u001b[K     |████████████████████████████████| 20.1MB 1.4MB/s \n",
            "\u001b[K     |████████████████████████████████| 9.9MB 42.0MB/s \n",
            "\u001b[K     |████████████████████████████████| 3.0MB 46.7MB/s \n",
            "\u001b[K     |████████████████████████████████| 51kB 8.3MB/s \n",
            "\u001b[K     |████████████████████████████████| 512kB 45.2MB/s \n",
            "\u001b[K     |████████████████████████████████| 25.9MB 120kB/s \n",
            "\u001b[K     |████████████████████████████████| 1.9MB 52.3MB/s \n",
            "\u001b[K     |████████████████████████████████| 71kB 9.6MB/s \n",
            "\u001b[?25h  Building wheel for sphfile (setup.py) ... \u001b[?25l\u001b[?25hdone\n",
            "\u001b[31mERROR: tensorflow 2.4.1 has requirement numpy~=1.19.2, but you'll have numpy 1.18.5 which is incompatible.\u001b[0m\n",
            "\u001b[31mERROR: google-colab 1.0.0 has requirement pandas~=1.1.0; python_version >= \"3.0\", but you'll have pandas 1.2.4 which is incompatible.\u001b[0m\n",
            "\u001b[31mERROR: datascience 0.10.6 has requirement folium==0.2.1, but you'll have folium 0.8.3 which is incompatible.\u001b[0m\n",
            "\u001b[31mERROR: albumentations 0.1.12 has requirement imgaug<0.2.7,>=0.2.5, but you'll have imgaug 0.2.9 which is incompatible.\u001b[0m\n"
          ],
          "name": "stdout"
        }
      ]
    },
    {
      "cell_type": "code",
      "metadata": {
        "id": "1qihMCJs9ZPK"
      },
      "source": [
        "!python3 app_test.py --results_save_dir=\"$RESULTS_DIR\" --dataset_root_dir='timit' --num_epochs=5"
      ],
      "execution_count": null,
      "outputs": []
    },
    {
      "cell_type": "code",
      "metadata": {
        "id": "qdztSrBx9Ylp"
      },
      "source": [
        "!python3 app_test.py --results_save_dir=\"$RESULTS_DIR\" --dataset_root_dir='timit' --num_epochs=5 --hidden=150 --name='vanillaLSTMfullylabeled150george.pth'"
      ],
      "execution_count": null,
      "outputs": []
    },
    {
      "cell_type": "code",
      "metadata": {
        "colab": {
          "base_uri": "https://localhost:8080/",
          "height": 34
        },
        "id": "dP1IZ2TUKmml",
        "outputId": "dfdbf66e-9a54-4fd4-aa27-edb77fcf4456"
      },
      "source": [
        "from google.colab import files\n",
        "#files.download('results/vanillaLSTMfullylabeled.pt')\n",
        "files.download('results/loss_plot.png')"
      ],
      "execution_count": null,
      "outputs": [
        {
          "output_type": "display_data",
          "data": {
            "application/javascript": [
              "\n",
              "    async function download(id, filename, size) {\n",
              "      if (!google.colab.kernel.accessAllowed) {\n",
              "        return;\n",
              "      }\n",
              "      const div = document.createElement('div');\n",
              "      const label = document.createElement('label');\n",
              "      label.textContent = `Downloading \"${filename}\": `;\n",
              "      div.appendChild(label);\n",
              "      const progress = document.createElement('progress');\n",
              "      progress.max = size;\n",
              "      div.appendChild(progress);\n",
              "      document.body.appendChild(div);\n",
              "\n",
              "      const buffers = [];\n",
              "      let downloaded = 0;\n",
              "\n",
              "      const channel = await google.colab.kernel.comms.open(id);\n",
              "      // Send a message to notify the kernel that we're ready.\n",
              "      channel.send({})\n",
              "\n",
              "      for await (const message of channel.messages) {\n",
              "        // Send a message to notify the kernel that we're ready.\n",
              "        channel.send({})\n",
              "        if (message.buffers) {\n",
              "          for (const buffer of message.buffers) {\n",
              "            buffers.push(buffer);\n",
              "            downloaded += buffer.byteLength;\n",
              "            progress.value = downloaded;\n",
              "          }\n",
              "        }\n",
              "      }\n",
              "      const blob = new Blob(buffers, {type: 'application/binary'});\n",
              "      const a = document.createElement('a');\n",
              "      a.href = window.URL.createObjectURL(blob);\n",
              "      a.download = filename;\n",
              "      div.appendChild(a);\n",
              "      a.click();\n",
              "      div.remove();\n",
              "    }\n",
              "  "
            ],
            "text/plain": [
              "<IPython.core.display.Javascript object>"
            ]
          },
          "metadata": {
            "tags": []
          }
        },
        {
          "output_type": "display_data",
          "data": {
            "application/javascript": [
              "download(\"download_a6cfc1b2-04a2-467c-99f4-926a396d27a5\", \"loss_plot.png\", 19106)"
            ],
            "text/plain": [
              "<IPython.core.display.Javascript object>"
            ]
          },
          "metadata": {
            "tags": []
          }
        }
      ]
    },
    {
      "cell_type": "code",
      "metadata": {
        "id": "7OwfKttB8kEA"
      },
      "source": [
        "drive.flush_and_unmount()"
      ],
      "execution_count": null,
      "outputs": []
    }
  ]
}