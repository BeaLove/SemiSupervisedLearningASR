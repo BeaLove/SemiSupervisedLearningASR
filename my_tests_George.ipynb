{
  "nbformat": 4,
  "nbformat_minor": 0,
  "metadata": {
    "colab": {
      "name": "my tests George.ipynb",
      "provenance": [],
      "collapsed_sections": [],
      "include_colab_link": true
    },
    "kernelspec": {
      "name": "python3",
      "display_name": "Python 3"
    },
    "language_info": {
      "name": "python"
    },
    "accelerator": "GPU"
  },
  "cells": [
    {
      "cell_type": "markdown",
      "metadata": {
        "id": "view-in-github",
        "colab_type": "text"
      },
      "source": [
        "<a href=\"https://colab.research.google.com/github/BeaLove/SemiSupervisedLearningASR/blob/main/my_tests_George.ipynb\" target=\"_parent\"><img src=\"https://colab.research.google.com/assets/colab-badge.svg\" alt=\"Open In Colab\"/></a>"
      ]
    },
    {
      "cell_type": "code",
      "metadata": {
        "id": "xbMSenmKQCTr",
        "colab": {
          "base_uri": "https://localhost:8080/",
          "height": 35
        },
        "cellView": "form",
        "outputId": "53ae8a13-d659-4a07-ec6f-45c99b59e962"
      },
      "source": [
        "#@markdown Please create a shortcut from our shared project folder and name it as Speech project 2021.\n",
        "\n",
        "\n",
        "RESULTS_DIR = \"~/../gdrive/My Drive/Speech project 2021/results_george\" #@param {type:\"string\"}\n",
        "\n",
        "import os.path\n",
        "RESULTS_DIR = os.path.expanduser(RESULTS_DIR)\n",
        "\n",
        "RESULTS_DIR"
      ],
      "execution_count": 5,
      "outputs": [
        {
          "output_type": "execute_result",
          "data": {
            "application/vnd.google.colaboratory.intrinsic+json": {
              "type": "string"
            },
            "text/plain": [
              "'/root/../gdrive/My Drive/Speech project 2021/results_george'"
            ]
          },
          "metadata": {
            "tags": []
          },
          "execution_count": 5
        }
      ]
    },
    {
      "cell_type": "code",
      "metadata": {
        "colab": {
          "base_uri": "https://localhost:8080/"
        },
        "id": "z3_oVQ90PxUX",
        "outputId": "aed18728-99b8-4839-83ff-3dd4f62637e1"
      },
      "source": [
        "from google.colab import files, drive\n",
        "drive.mount('/gdrive', force_remount=True)\n",
        "\n",
        "if os.path.isdir(RESULTS_DIR) == False:\n",
        "  raise Exception(\"Cannot find the directory!\")\n",
        "\n",
        "%cd ~/\n",
        "\n",
        "if os.path.isdir(os.path.expanduser('~/SemiSupervisedLearningASR')):\n",
        "  %cd ~/SemiSupervisedLearningASR\n",
        "  !git pull\n",
        "else:\n",
        "  !git clone https://github.com/BeaLove/SemiSupervisedLearningASR.git\n",
        "  %cd ~/SemiSupervisedLearningASR\n",
        "\n",
        "!pip install -q -r requirements.txt"
      ],
      "execution_count": 16,
      "outputs": [
        {
          "output_type": "stream",
          "text": [
            "Mounted at /gdrive\n",
            "/root\n",
            "/root/SemiSupervisedLearningASR\n",
            "remote: Enumerating objects: 5, done.\u001b[K\n",
            "remote: Counting objects: 100% (5/5), done.\u001b[K\n",
            "remote: Compressing objects: 100% (3/3), done.\u001b[K\n",
            "remote: Total 3 (delta 2), reused 0 (delta 0), pack-reused 0\u001b[K\n",
            "Unpacking objects: 100% (3/3), done.\n",
            "From https://github.com/BeaLove/SemiSupervisedLearningASR\n",
            "   2ded50c4..5004b640  main       -> origin/main\n",
            "Updating 2ded50c4..5004b640\n",
            "Fast-forward\n",
            " app_test.py | 2 \u001b[32m+\u001b[m\u001b[31m-\u001b[m\n",
            " 1 file changed, 1 insertion(+), 1 deletion(-)\n"
          ],
          "name": "stdout"
        }
      ]
    },
    {
      "cell_type": "code",
      "metadata": {
        "id": "1qihMCJs9ZPK",
        "colab": {
          "base_uri": "https://localhost:8080/"
        },
        "outputId": "7d79e6b2-e042-481a-e544-2a08d4c7fa56"
      },
      "source": [
        "!python3 app_test.py --results_save_dir=\"$RESULTS_DIR\" --dataset_root_dir='timit' --num_epochs=5"
      ],
      "execution_count": 17,
      "outputs": [
        {
          "output_type": "stream",
          "text": [
            "using cuda\n",
            "train_loss 2.073; loss_loss 2.056: 100% 5/5 [01:04<00:00, 12.97s/it]\n"
          ],
          "name": "stdout"
        }
      ]
    },
    {
      "cell_type": "code",
      "metadata": {
        "id": "qdztSrBx9Ylp"
      },
      "source": [
        "!python3 app_test.py --results_save_dir=\"$RESULTS_DIR\" --dataset_root_dir='timit' --num_epochs=5 --hidden=150 --name='vanillaLSTMfullylabeled150george.pth'"
      ],
      "execution_count": null,
      "outputs": []
    },
    {
      "cell_type": "code",
      "metadata": {
        "colab": {
          "base_uri": "https://localhost:8080/",
          "height": 324
        },
        "id": "dP1IZ2TUKmml",
        "outputId": "27dfe1c2-501a-496e-c837-c71be0ebff84"
      },
      "source": [
        "from google.colab import files\n",
        "#files.download('results/vanillaLSTMfullylabeled.pt')\n",
        "files.download('results/loss_plot.png')"
      ],
      "execution_count": 18,
      "outputs": [
        {
          "output_type": "error",
          "ename": "FileNotFoundError",
          "evalue": "ignored",
          "traceback": [
            "\u001b[0;31m---------------------------------------------------------------------------\u001b[0m",
            "\u001b[0;31mFileNotFoundError\u001b[0m                         Traceback (most recent call last)",
            "\u001b[0;32m<ipython-input-18-7a1495e6de8f>\u001b[0m in \u001b[0;36m<module>\u001b[0;34m()\u001b[0m\n\u001b[1;32m      1\u001b[0m \u001b[0;32mfrom\u001b[0m \u001b[0mgoogle\u001b[0m\u001b[0;34m.\u001b[0m\u001b[0mcolab\u001b[0m \u001b[0;32mimport\u001b[0m \u001b[0mfiles\u001b[0m\u001b[0;34m\u001b[0m\u001b[0;34m\u001b[0m\u001b[0m\n\u001b[1;32m      2\u001b[0m \u001b[0;31m#files.download('results/vanillaLSTMfullylabeled.pt')\u001b[0m\u001b[0;34m\u001b[0m\u001b[0;34m\u001b[0m\u001b[0;34m\u001b[0m\u001b[0m\n\u001b[0;32m----> 3\u001b[0;31m \u001b[0mfiles\u001b[0m\u001b[0;34m.\u001b[0m\u001b[0mdownload\u001b[0m\u001b[0;34m(\u001b[0m\u001b[0;34m'results/loss_plot.png'\u001b[0m\u001b[0;34m)\u001b[0m\u001b[0;34m\u001b[0m\u001b[0;34m\u001b[0m\u001b[0m\n\u001b[0m",
            "\u001b[0;32m/usr/local/lib/python3.7/dist-packages/google/colab/files.py\u001b[0m in \u001b[0;36mdownload\u001b[0;34m(filename)\u001b[0m\n\u001b[1;32m    141\u001b[0m       \u001b[0;32mraise\u001b[0m \u001b[0mOSError\u001b[0m\u001b[0;34m(\u001b[0m\u001b[0mmsg\u001b[0m\u001b[0;34m)\u001b[0m\u001b[0;34m\u001b[0m\u001b[0;34m\u001b[0m\u001b[0m\n\u001b[1;32m    142\u001b[0m     \u001b[0;32melse\u001b[0m\u001b[0;34m:\u001b[0m\u001b[0;34m\u001b[0m\u001b[0;34m\u001b[0m\u001b[0m\n\u001b[0;32m--> 143\u001b[0;31m       \u001b[0;32mraise\u001b[0m \u001b[0mFileNotFoundError\u001b[0m\u001b[0;34m(\u001b[0m\u001b[0mmsg\u001b[0m\u001b[0;34m)\u001b[0m  \u001b[0;31m# pylint: disable=undefined-variable\u001b[0m\u001b[0;34m\u001b[0m\u001b[0;34m\u001b[0m\u001b[0m\n\u001b[0m\u001b[1;32m    144\u001b[0m \u001b[0;34m\u001b[0m\u001b[0m\n\u001b[1;32m    145\u001b[0m   \u001b[0mcomm_manager\u001b[0m \u001b[0;34m=\u001b[0m \u001b[0m_IPython\u001b[0m\u001b[0;34m.\u001b[0m\u001b[0mget_ipython\u001b[0m\u001b[0;34m(\u001b[0m\u001b[0;34m)\u001b[0m\u001b[0;34m.\u001b[0m\u001b[0mkernel\u001b[0m\u001b[0;34m.\u001b[0m\u001b[0mcomm_manager\u001b[0m\u001b[0;34m\u001b[0m\u001b[0;34m\u001b[0m\u001b[0m\n",
            "\u001b[0;31mFileNotFoundError\u001b[0m: Cannot find file: results/loss_plot.png"
          ]
        }
      ]
    },
    {
      "cell_type": "code",
      "metadata": {
        "id": "7OwfKttB8kEA",
        "colab": {
          "base_uri": "https://localhost:8080/"
        },
        "outputId": "3b53678d-5383-4ec9-f585-67e79c7d5314"
      },
      "source": [
        "drive.flush_and_unmount()"
      ],
      "execution_count": 20,
      "outputs": [
        {
          "output_type": "stream",
          "text": [
            "Drive not mounted, so nothing to flush and unmount.\n"
          ],
          "name": "stdout"
        }
      ]
    }
  ]
}